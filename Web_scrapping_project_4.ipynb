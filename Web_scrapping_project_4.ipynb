{
 "cells": [
  {
   "cell_type": "markdown",
   "id": "06b0cf2d",
   "metadata": {},
   "source": [
    "# 1. Scrape the details of most viewed videos on YouTube from Wikipedia.\n",
    "Url = https://en.wikipedia.org/wiki/List_of_most-viewed_YouTube_videos\n",
    "You need to find following details:\n",
    "\n",
    "A) Rank\n",
    "\n",
    "B) Name\n",
    "\n",
    "C) Artist\n",
    "\n",
    "D) Upload date\n",
    "\n",
    "E) Views"
   ]
  },
  {
   "cell_type": "code",
   "execution_count": 1,
   "id": "23982cb5",
   "metadata": {},
   "outputs": [],
   "source": [
    "import selenium\n",
    "import pandas as pd\n",
    "import time\n",
    "\n",
    "#importing selenium webdriver\n",
    "from selenium import webdriver\n",
    "\n",
    "#importing required exceptions which needs to be handled\n",
    "from selenium.common.exceptions import StaleElementReferenceException, NoSuchElementException\n",
    "\n",
    "#importing requests\n",
    "import requests\n",
    "\n",
    "#importing regex\n",
    "import re\n",
    "\n",
    "import time"
   ]
  },
  {
   "cell_type": "markdown",
   "id": "2f376502",
   "metadata": {},
   "source": [
    "# 2. Scrape the details team India’s international fixtures from bcci.tv.\n",
    "Url = https://www.bcci.tv/.\n",
    "You need to find following details:\n",
    "\n",
    "A) Match title (I.e. 1st ODI)\n",
    "\n",
    "B) Series\n",
    "\n",
    "C) Place\n",
    "\n",
    "D) Date\n",
    "\n",
    "E) Time"
   ]
  },
  {
   "cell_type": "code",
   "execution_count": 15,
   "id": "8ec9d833",
   "metadata": {},
   "outputs": [],
   "source": [
    "path = \"C:\\\\Users\\\\hema\\\\Downloads\\\\chromedriver_win32\\\\chromedriver.exe\""
   ]
  },
  {
   "cell_type": "code",
   "execution_count": 16,
   "id": "9a396bae",
   "metadata": {},
   "outputs": [
    {
     "name": "stderr",
     "output_type": "stream",
     "text": [
      "<ipython-input-16-9476c1565ac9>:1: DeprecationWarning: executable_path has been deprecated, please pass in a Service object\n",
      "  driver =webdriver.Chrome(path)\n"
     ]
    }
   ],
   "source": [
    "driver =webdriver.Chrome(path)"
   ]
  },
  {
   "cell_type": "code",
   "execution_count": 17,
   "id": "906d249e",
   "metadata": {},
   "outputs": [],
   "source": [
    "driver.get('https://www.bcci.tv/international/fixtures')"
   ]
  },
  {
   "cell_type": "code",
   "execution_count": 18,
   "id": "b0d9c327",
   "metadata": {},
   "outputs": [],
   "source": [
    "Match_title=[]\n",
    "Series=[]\n",
    "Place=[]\n",
    "Date=[]\n",
    "Time=[]"
   ]
  },
  {
   "cell_type": "code",
   "execution_count": 27,
   "id": "645ee73e",
   "metadata": {},
   "outputs": [
    {
     "name": "stderr",
     "output_type": "stream",
     "text": [
      "<ipython-input-27-dd719309e5e1>:1: DeprecationWarning: find_elements_by_xpath is deprecated. Please use find_elements(by=By.XPATH, value=xpath) instead\n",
      "  mplace=driver.find_elements_by_xpath('//span[@class=\"ng-binding ng-scope\"]')\n"
     ]
    }
   ],
   "source": [
    "mplace=driver.find_elements_by_xpath('//span[@class=\"<!-- ngIf: fixLiveList.length == 0 && noFixtures != 'init' -->\"]')"
   ]
  },
  {
   "cell_type": "code",
   "execution_count": 29,
   "id": "1f66a795",
   "metadata": {},
   "outputs": [
    {
     "ename": "StaleElementReferenceException",
     "evalue": "Message: stale element reference: element is not attached to the page document\n  (Session info: chrome=102.0.5005.115)\nStacktrace:\nBacktrace:\n\tOrdinal0 [0x00F7D953+2414931]\n\tOrdinal0 [0x00F0F5E1+1963489]\n\tOrdinal0 [0x00DFC6B8+837304]\n\tOrdinal0 [0x00DFF0B4+848052]\n\tOrdinal0 [0x00DFEF72+847730]\n\tOrdinal0 [0x00DFF200+848384]\n\tOrdinal0 [0x00E24FDF+1003487]\n\tOrdinal0 [0x00E4449C+1131676]\n\tOrdinal0 [0x00E1FC74+982132]\n\tOrdinal0 [0x00E446B4+1132212]\n\tOrdinal0 [0x00E54812+1198098]\n\tOrdinal0 [0x00E442B6+1131190]\n\tOrdinal0 [0x00E1E860+976992]\n\tOrdinal0 [0x00E1F756+980822]\n\tGetHandleVerifier [0x011ECC62+2510274]\n\tGetHandleVerifier [0x011DF760+2455744]\n\tGetHandleVerifier [0x0100EABA+551962]\n\tGetHandleVerifier [0x0100D916+547446]\n\tOrdinal0 [0x00F15F3B+1990459]\n\tOrdinal0 [0x00F1A898+2009240]\n\tOrdinal0 [0x00F1A985+2009477]\n\tOrdinal0 [0x00F23AD1+2046673]\n\tBaseThreadInitThunk [0x75766739+25]\n\tRtlGetFullPathName_UEx [0x77048FEF+1215]\n\tRtlGetFullPathName_UEx [0x77048FBD+1165]\n",
     "output_type": "error",
     "traceback": [
      "\u001b[1;31m---------------------------------------------------------------------------\u001b[0m",
      "\u001b[1;31mStaleElementReferenceException\u001b[0m            Traceback (most recent call last)",
      "\u001b[1;32m<ipython-input-29-615996b6362c>\u001b[0m in \u001b[0;36m<module>\u001b[1;34m\u001b[0m\n\u001b[0;32m      1\u001b[0m \u001b[1;32mfor\u001b[0m \u001b[0mx\u001b[0m \u001b[1;32min\u001b[0m \u001b[0mmplace\u001b[0m\u001b[1;33m:\u001b[0m\u001b[1;33m\u001b[0m\u001b[1;33m\u001b[0m\u001b[0m\n\u001b[1;32m----> 2\u001b[1;33m     \u001b[0mmpla\u001b[0m\u001b[1;33m=\u001b[0m\u001b[0mx\u001b[0m\u001b[1;33m.\u001b[0m\u001b[0mtext\u001b[0m\u001b[1;33m\u001b[0m\u001b[1;33m\u001b[0m\u001b[0m\n\u001b[0m\u001b[0;32m      3\u001b[0m     \u001b[0mPlace\u001b[0m\u001b[1;33m.\u001b[0m\u001b[0mappend\u001b[0m\u001b[1;33m(\u001b[0m\u001b[0mmpla\u001b[0m\u001b[1;33m)\u001b[0m\u001b[1;33m\u001b[0m\u001b[1;33m\u001b[0m\u001b[0m\n",
      "\u001b[1;32m~\\anaconda3\\lib\\site-packages\\selenium\\webdriver\\remote\\webelement.py\u001b[0m in \u001b[0;36mtext\u001b[1;34m(self)\u001b[0m\n\u001b[0;32m     75\u001b[0m     \u001b[1;32mdef\u001b[0m \u001b[0mtext\u001b[0m\u001b[1;33m(\u001b[0m\u001b[0mself\u001b[0m\u001b[1;33m)\u001b[0m \u001b[1;33m->\u001b[0m \u001b[0mstr\u001b[0m\u001b[1;33m:\u001b[0m\u001b[1;33m\u001b[0m\u001b[1;33m\u001b[0m\u001b[0m\n\u001b[0;32m     76\u001b[0m         \u001b[1;34m\"\"\"The text of the element.\"\"\"\u001b[0m\u001b[1;33m\u001b[0m\u001b[1;33m\u001b[0m\u001b[0m\n\u001b[1;32m---> 77\u001b[1;33m         \u001b[1;32mreturn\u001b[0m \u001b[0mself\u001b[0m\u001b[1;33m.\u001b[0m\u001b[0m_execute\u001b[0m\u001b[1;33m(\u001b[0m\u001b[0mCommand\u001b[0m\u001b[1;33m.\u001b[0m\u001b[0mGET_ELEMENT_TEXT\u001b[0m\u001b[1;33m)\u001b[0m\u001b[1;33m[\u001b[0m\u001b[1;34m'value'\u001b[0m\u001b[1;33m]\u001b[0m\u001b[1;33m\u001b[0m\u001b[1;33m\u001b[0m\u001b[0m\n\u001b[0m\u001b[0;32m     78\u001b[0m \u001b[1;33m\u001b[0m\u001b[0m\n\u001b[0;32m     79\u001b[0m     \u001b[1;32mdef\u001b[0m \u001b[0mclick\u001b[0m\u001b[1;33m(\u001b[0m\u001b[0mself\u001b[0m\u001b[1;33m)\u001b[0m \u001b[1;33m->\u001b[0m \u001b[1;32mNone\u001b[0m\u001b[1;33m:\u001b[0m\u001b[1;33m\u001b[0m\u001b[1;33m\u001b[0m\u001b[0m\n",
      "\u001b[1;32m~\\anaconda3\\lib\\site-packages\\selenium\\webdriver\\remote\\webelement.py\u001b[0m in \u001b[0;36m_execute\u001b[1;34m(self, command, params)\u001b[0m\n\u001b[0;32m    708\u001b[0m             \u001b[0mparams\u001b[0m \u001b[1;33m=\u001b[0m \u001b[1;33m{\u001b[0m\u001b[1;33m}\u001b[0m\u001b[1;33m\u001b[0m\u001b[1;33m\u001b[0m\u001b[0m\n\u001b[0;32m    709\u001b[0m         \u001b[0mparams\u001b[0m\u001b[1;33m[\u001b[0m\u001b[1;34m'id'\u001b[0m\u001b[1;33m]\u001b[0m \u001b[1;33m=\u001b[0m \u001b[0mself\u001b[0m\u001b[1;33m.\u001b[0m\u001b[0m_id\u001b[0m\u001b[1;33m\u001b[0m\u001b[1;33m\u001b[0m\u001b[0m\n\u001b[1;32m--> 710\u001b[1;33m         \u001b[1;32mreturn\u001b[0m \u001b[0mself\u001b[0m\u001b[1;33m.\u001b[0m\u001b[0m_parent\u001b[0m\u001b[1;33m.\u001b[0m\u001b[0mexecute\u001b[0m\u001b[1;33m(\u001b[0m\u001b[0mcommand\u001b[0m\u001b[1;33m,\u001b[0m \u001b[0mparams\u001b[0m\u001b[1;33m)\u001b[0m\u001b[1;33m\u001b[0m\u001b[1;33m\u001b[0m\u001b[0m\n\u001b[0m\u001b[0;32m    711\u001b[0m \u001b[1;33m\u001b[0m\u001b[0m\n\u001b[0;32m    712\u001b[0m     \u001b[1;32mdef\u001b[0m \u001b[0mfind_element\u001b[0m\u001b[1;33m(\u001b[0m\u001b[0mself\u001b[0m\u001b[1;33m,\u001b[0m \u001b[0mby\u001b[0m\u001b[1;33m=\u001b[0m\u001b[0mBy\u001b[0m\u001b[1;33m.\u001b[0m\u001b[0mID\u001b[0m\u001b[1;33m,\u001b[0m \u001b[0mvalue\u001b[0m\u001b[1;33m=\u001b[0m\u001b[1;32mNone\u001b[0m\u001b[1;33m)\u001b[0m\u001b[1;33m:\u001b[0m\u001b[1;33m\u001b[0m\u001b[1;33m\u001b[0m\u001b[0m\n",
      "\u001b[1;32m~\\anaconda3\\lib\\site-packages\\selenium\\webdriver\\remote\\webdriver.py\u001b[0m in \u001b[0;36mexecute\u001b[1;34m(self, driver_command, params)\u001b[0m\n\u001b[0;32m    423\u001b[0m         \u001b[0mresponse\u001b[0m \u001b[1;33m=\u001b[0m \u001b[0mself\u001b[0m\u001b[1;33m.\u001b[0m\u001b[0mcommand_executor\u001b[0m\u001b[1;33m.\u001b[0m\u001b[0mexecute\u001b[0m\u001b[1;33m(\u001b[0m\u001b[0mdriver_command\u001b[0m\u001b[1;33m,\u001b[0m \u001b[0mparams\u001b[0m\u001b[1;33m)\u001b[0m\u001b[1;33m\u001b[0m\u001b[1;33m\u001b[0m\u001b[0m\n\u001b[0;32m    424\u001b[0m         \u001b[1;32mif\u001b[0m \u001b[0mresponse\u001b[0m\u001b[1;33m:\u001b[0m\u001b[1;33m\u001b[0m\u001b[1;33m\u001b[0m\u001b[0m\n\u001b[1;32m--> 425\u001b[1;33m             \u001b[0mself\u001b[0m\u001b[1;33m.\u001b[0m\u001b[0merror_handler\u001b[0m\u001b[1;33m.\u001b[0m\u001b[0mcheck_response\u001b[0m\u001b[1;33m(\u001b[0m\u001b[0mresponse\u001b[0m\u001b[1;33m)\u001b[0m\u001b[1;33m\u001b[0m\u001b[1;33m\u001b[0m\u001b[0m\n\u001b[0m\u001b[0;32m    426\u001b[0m             response['value'] = self._unwrap_value(\n\u001b[0;32m    427\u001b[0m                 response.get('value', None))\n",
      "\u001b[1;32m~\\anaconda3\\lib\\site-packages\\selenium\\webdriver\\remote\\errorhandler.py\u001b[0m in \u001b[0;36mcheck_response\u001b[1;34m(self, response)\u001b[0m\n\u001b[0;32m    245\u001b[0m                 \u001b[0malert_text\u001b[0m \u001b[1;33m=\u001b[0m \u001b[0mvalue\u001b[0m\u001b[1;33m[\u001b[0m\u001b[1;34m'alert'\u001b[0m\u001b[1;33m]\u001b[0m\u001b[1;33m.\u001b[0m\u001b[0mget\u001b[0m\u001b[1;33m(\u001b[0m\u001b[1;34m'text'\u001b[0m\u001b[1;33m)\u001b[0m\u001b[1;33m\u001b[0m\u001b[1;33m\u001b[0m\u001b[0m\n\u001b[0;32m    246\u001b[0m             \u001b[1;32mraise\u001b[0m \u001b[0mexception_class\u001b[0m\u001b[1;33m(\u001b[0m\u001b[0mmessage\u001b[0m\u001b[1;33m,\u001b[0m \u001b[0mscreen\u001b[0m\u001b[1;33m,\u001b[0m \u001b[0mstacktrace\u001b[0m\u001b[1;33m,\u001b[0m \u001b[0malert_text\u001b[0m\u001b[1;33m)\u001b[0m  \u001b[1;31m# type: ignore[call-arg]  # mypy is not smart enough here\u001b[0m\u001b[1;33m\u001b[0m\u001b[1;33m\u001b[0m\u001b[0m\n\u001b[1;32m--> 247\u001b[1;33m         \u001b[1;32mraise\u001b[0m \u001b[0mexception_class\u001b[0m\u001b[1;33m(\u001b[0m\u001b[0mmessage\u001b[0m\u001b[1;33m,\u001b[0m \u001b[0mscreen\u001b[0m\u001b[1;33m,\u001b[0m \u001b[0mstacktrace\u001b[0m\u001b[1;33m)\u001b[0m\u001b[1;33m\u001b[0m\u001b[1;33m\u001b[0m\u001b[0m\n\u001b[0m\u001b[0;32m    248\u001b[0m \u001b[1;33m\u001b[0m\u001b[0m\n\u001b[0;32m    249\u001b[0m     \u001b[1;32mdef\u001b[0m \u001b[0m_value_or_default\u001b[0m\u001b[1;33m(\u001b[0m\u001b[0mself\u001b[0m\u001b[1;33m,\u001b[0m \u001b[0mobj\u001b[0m\u001b[1;33m:\u001b[0m \u001b[0mMapping\u001b[0m\u001b[1;33m[\u001b[0m\u001b[0m_KT\u001b[0m\u001b[1;33m,\u001b[0m \u001b[0m_VT\u001b[0m\u001b[1;33m]\u001b[0m\u001b[1;33m,\u001b[0m \u001b[0mkey\u001b[0m\u001b[1;33m:\u001b[0m \u001b[0m_KT\u001b[0m\u001b[1;33m,\u001b[0m \u001b[0mdefault\u001b[0m\u001b[1;33m:\u001b[0m \u001b[0m_VT\u001b[0m\u001b[1;33m)\u001b[0m \u001b[1;33m->\u001b[0m \u001b[0m_VT\u001b[0m\u001b[1;33m:\u001b[0m\u001b[1;33m\u001b[0m\u001b[1;33m\u001b[0m\u001b[0m\n",
      "\u001b[1;31mStaleElementReferenceException\u001b[0m: Message: stale element reference: element is not attached to the page document\n  (Session info: chrome=102.0.5005.115)\nStacktrace:\nBacktrace:\n\tOrdinal0 [0x00F7D953+2414931]\n\tOrdinal0 [0x00F0F5E1+1963489]\n\tOrdinal0 [0x00DFC6B8+837304]\n\tOrdinal0 [0x00DFF0B4+848052]\n\tOrdinal0 [0x00DFEF72+847730]\n\tOrdinal0 [0x00DFF200+848384]\n\tOrdinal0 [0x00E24FDF+1003487]\n\tOrdinal0 [0x00E4449C+1131676]\n\tOrdinal0 [0x00E1FC74+982132]\n\tOrdinal0 [0x00E446B4+1132212]\n\tOrdinal0 [0x00E54812+1198098]\n\tOrdinal0 [0x00E442B6+1131190]\n\tOrdinal0 [0x00E1E860+976992]\n\tOrdinal0 [0x00E1F756+980822]\n\tGetHandleVerifier [0x011ECC62+2510274]\n\tGetHandleVerifier [0x011DF760+2455744]\n\tGetHandleVerifier [0x0100EABA+551962]\n\tGetHandleVerifier [0x0100D916+547446]\n\tOrdinal0 [0x00F15F3B+1990459]\n\tOrdinal0 [0x00F1A898+2009240]\n\tOrdinal0 [0x00F1A985+2009477]\n\tOrdinal0 [0x00F23AD1+2046673]\n\tBaseThreadInitThunk [0x75766739+25]\n\tRtlGetFullPathName_UEx [0x77048FEF+1215]\n\tRtlGetFullPathName_UEx [0x77048FBD+1165]\n"
     ]
    }
   ],
   "source": [
    "for x in mplace:\n",
    "    mpla=x.text\n",
    "    Place.append(mpla)"
   ]
  },
  {
   "cell_type": "markdown",
   "id": "2a052c08",
   "metadata": {},
   "source": [
    "# 5. Scrape the details of trending repositories on Github.com.\n",
    "Url = https://github.com/\n",
    "You have to find the following details:\n",
    "\n",
    "A) Repository title\n",
    "\n",
    "B) Repository description\n",
    "\n",
    "C) Contributors count\n",
    "\n",
    "D) Language used\n"
   ]
  },
  {
   "cell_type": "code",
   "execution_count": 2,
   "id": "bc4ce06e",
   "metadata": {},
   "outputs": [],
   "source": [
    "path = \"C:\\\\Users\\\\hema\\\\Downloads\\\\chromedriver_win32\\\\chromedriver.exe\""
   ]
  },
  {
   "cell_type": "code",
   "execution_count": 3,
   "id": "6ec04f80",
   "metadata": {},
   "outputs": [
    {
     "name": "stderr",
     "output_type": "stream",
     "text": [
      "<ipython-input-3-9476c1565ac9>:1: DeprecationWarning: executable_path has been deprecated, please pass in a Service object\n",
      "  driver =webdriver.Chrome(path)\n"
     ]
    }
   ],
   "source": [
    "driver =webdriver.Chrome(path)"
   ]
  },
  {
   "cell_type": "code",
   "execution_count": 4,
   "id": "24f9a8e6",
   "metadata": {},
   "outputs": [],
   "source": [
    "driver.get('https://github.com/search?q=repository')"
   ]
  },
  {
   "cell_type": "code",
   "execution_count": 5,
   "id": "6dedf99b",
   "metadata": {},
   "outputs": [],
   "source": [
    "Repository_title=[]\n",
    "Repository_description=[]\n",
    "Contributors_count=[]\n",
    "Language_used=[]"
   ]
  },
  {
   "cell_type": "code",
   "execution_count": 6,
   "id": "56dc2656",
   "metadata": {},
   "outputs": [
    {
     "name": "stderr",
     "output_type": "stream",
     "text": [
      "<ipython-input-6-f6581c5fc9a7>:1: DeprecationWarning: find_elements_by_xpath is deprecated. Please use find_elements(by=By.XPATH, value=xpath) instead\n",
      "  title=driver.find_elements_by_xpath('//a[@class=\"v-align-middle\"]')\n"
     ]
    }
   ],
   "source": [
    "title=driver.find_elements_by_xpath('//a[@class=\"v-align-middle\"]')\n",
    "\n",
    "for i in title:\n",
    "    tit=i.text\n",
    "    Repository_title.append(tit)"
   ]
  },
  {
   "cell_type": "code",
   "execution_count": 7,
   "id": "6a182527",
   "metadata": {},
   "outputs": [
    {
     "data": {
      "text/plain": [
       "10"
      ]
     },
     "execution_count": 7,
     "metadata": {},
     "output_type": "execute_result"
    }
   ],
   "source": [
    "len(Repository_title)"
   ]
  },
  {
   "cell_type": "code",
   "execution_count": 8,
   "id": "9a9abefa",
   "metadata": {},
   "outputs": [
    {
     "name": "stderr",
     "output_type": "stream",
     "text": [
      "<ipython-input-8-4fe0c941b70b>:1: DeprecationWarning: find_elements_by_xpath is deprecated. Please use find_elements(by=By.XPATH, value=xpath) instead\n",
      "  desc=driver.find_elements_by_xpath('//p[@class=\"mb-1\"]')\n"
     ]
    }
   ],
   "source": [
    "desc=driver.find_elements_by_xpath('//p[@class=\"mb-1\"]')\n",
    "\n",
    "for j in desc:\n",
    "    des=j.text\n",
    "    Repository_description.append(des)"
   ]
  },
  {
   "cell_type": "code",
   "execution_count": 9,
   "id": "5dd276ea",
   "metadata": {},
   "outputs": [
    {
     "data": {
      "text/plain": [
       "10"
      ]
     },
     "execution_count": 9,
     "metadata": {},
     "output_type": "execute_result"
    }
   ],
   "source": [
    "len(Repository_description)"
   ]
  },
  {
   "cell_type": "code",
   "execution_count": 10,
   "id": "18cf003c",
   "metadata": {},
   "outputs": [
    {
     "name": "stderr",
     "output_type": "stream",
     "text": [
      "<ipython-input-10-d414dd84ef95>:1: DeprecationWarning: find_elements_by_xpath is deprecated. Please use find_elements(by=By.XPATH, value=xpath) instead\n",
      "  count=driver.find_elements_by_xpath('//a[@class=\"Link--muted\"]')\n"
     ]
    }
   ],
   "source": [
    "count=driver.find_elements_by_xpath('//a[@class=\"Link--muted\"]')\n",
    "for k in count:\n",
    "    cou=k.text\n",
    "    Contributors_count.append(cou)\n"
   ]
  },
  {
   "cell_type": "code",
   "execution_count": 11,
   "id": "9c85e48b",
   "metadata": {},
   "outputs": [
    {
     "data": {
      "text/plain": [
       "10"
      ]
     },
     "execution_count": 11,
     "metadata": {},
     "output_type": "execute_result"
    }
   ],
   "source": [
    "len(Contributors_count)"
   ]
  },
  {
   "cell_type": "code",
   "execution_count": 13,
   "id": "f19ea82b",
   "metadata": {},
   "outputs": [
    {
     "name": "stderr",
     "output_type": "stream",
     "text": [
      "<ipython-input-13-0ba6a30531a4>:1: DeprecationWarning: find_elements_by_xpath is deprecated. Please use find_elements(by=By.XPATH, value=xpath) instead\n",
      "  lang =driver.find_elements_by_xpath('//span[@itemprop=\"programmingLanguage\"]')\n"
     ]
    }
   ],
   "source": [
    "lang =driver.find_elements_by_xpath('//span[@itemprop=\"programmingLanguage\"]')\n",
    "\n",
    "for l in lang:\n",
    "    lan=l.text\n",
    "    Language_used.append(lan)"
   ]
  },
  {
   "cell_type": "code",
   "execution_count": 14,
   "id": "cc96c009",
   "metadata": {},
   "outputs": [
    {
     "data": {
      "text/plain": [
       "9"
      ]
     },
     "execution_count": 14,
     "metadata": {},
     "output_type": "execute_result"
    }
   ],
   "source": [
    "len(Language_used)"
   ]
  },
  {
   "cell_type": "markdown",
   "id": "955af321",
   "metadata": {},
   "source": [
    "# 6. Scrape the details of top 100 songs on billiboard.com.\n",
    "Url = https:/www.billboard.com/\n",
    "You have to find the following details:\n",
    "\n",
    "A) Song name\n",
    "\n",
    "B) Artist name\n",
    "\n",
    "C) Last week rank\n",
    "\n",
    "D) Peak rank\n",
    "\n",
    "E) Weeks on board"
   ]
  },
  {
   "cell_type": "code",
   "execution_count": null,
   "id": "490c494a",
   "metadata": {},
   "outputs": [],
   "source": [
    "path = \"C:\\\\Users\\\\hema\\\\Downloads\\\\chromedriver_win32\\\\chromedriver.exe\""
   ]
  },
  {
   "cell_type": "code",
   "execution_count": null,
   "id": "b2607de9",
   "metadata": {},
   "outputs": [],
   "source": [
    "driver =webdriver.Chrome(path)"
   ]
  },
  {
   "cell_type": "code",
   "execution_count": null,
   "id": "638037bf",
   "metadata": {},
   "outputs": [],
   "source": [
    "#fetching the url\n",
    "driver.get('https://www.billboard.com/charts/hot-100/')"
   ]
  },
  {
   "cell_type": "code",
   "execution_count": null,
   "id": "46b2849e",
   "metadata": {},
   "outputs": [],
   "source": [
    "name=driver.find_elements_by_xpath('//h3[@class=\"c-title  a-no-trucate a-font-primary-bold-s u-letter-spacing-0021 lrv-u-font-size-18@tablet lrv-u-font-size-16 u-line-height-125 u-line-height-normal@mobile-max a-truncate-ellipsis u-max-width-330 u-max-width-230@tablet-only\"]')\n",
    "\n"
   ]
  },
  {
   "cell_type": "code",
   "execution_count": null,
   "id": "0e631e88",
   "metadata": {},
   "outputs": [],
   "source": [
    "Song_name=[]\n",
    "for i in name:\n",
    "    na=i.text\n",
    "    Song_name.append(na)"
   ]
  },
  {
   "cell_type": "code",
   "execution_count": null,
   "id": "621b37bd",
   "metadata": {},
   "outputs": [],
   "source": [
    "len(Song_name)"
   ]
  },
  {
   "cell_type": "code",
   "execution_count": null,
   "id": "f8f7c1c2",
   "metadata": {},
   "outputs": [],
   "source": [
    "Artist_name=[]\n",
    "aname=driver.find_elements_by_xpath('//span[@class=\"c-label  a-no-trucate a-font-primary-s lrv-u-font-size-14@mobile-max u-line-height-normal@mobile-max u-letter-spacing-0021 lrv-u-display-block a-truncate-ellipsis-2line u-max-width-330 u-max-width-230@tablet-only\"]')\n",
    "\n",
    "for j in aname:\n",
    "    an=j.text\n",
    "    Artist_name.append(an)\n",
    "Artist_name"
   ]
  },
  {
   "cell_type": "code",
   "execution_count": null,
   "id": "5e7f0a6f",
   "metadata": {},
   "outputs": [],
   "source": [
    "len(Artist_name)"
   ]
  },
  {
   "cell_type": "code",
   "execution_count": null,
   "id": "279214e6",
   "metadata": {},
   "outputs": [],
   "source": [
    "Last_week_rank =[]\n",
    "lwr=driver.find_elements_by_xpath('//span[@class=\"c-label  a-font-primary-m lrv-u-padding-tb-050@mobile-max\"]')\n",
    "\n",
    "for k in lwr:\n",
    "    lw=k.text\n",
    "    Last_week_rank.append(lw)\n",
    "Last_week_rank"
   ]
  },
  {
   "cell_type": "code",
   "execution_count": null,
   "id": "43e94602",
   "metadata": {},
   "outputs": [],
   "source": []
  },
  {
   "cell_type": "code",
   "execution_count": null,
   "id": "67c32628",
   "metadata": {},
   "outputs": [],
   "source": [
    "peak_rank=[]\n",
    "\n",
    "pr=driver.find_elements_by_xpath('//span[@class=\"c-label  a-font-primary-m lrv-u-padding-tb-050@mobile-max\"]')\n",
    "\n",
    "for l in pr:\n",
    "    ran=l.text\n",
    "    peak_rank.append(ran)\n",
    "peak_rank"
   ]
  },
  {
   "cell_type": "code",
   "execution_count": null,
   "id": "738ebbde",
   "metadata": {},
   "outputs": [],
   "source": [
    "Weeks_on_board=[]\n",
    "wob =driver.find_elements_by_xpath('//span[@class=\"c-label  a-font-primary-m lrv-u-padding-tb-050@mobile-max\"]')\n",
    "\n",
    "for m in wob:\n",
    "    wb=m.text\n",
    "    Weeks_on_board.append(wb)\n",
    "Weeks_on_board"
   ]
  },
  {
   "cell_type": "code",
   "execution_count": null,
   "id": "1efee905",
   "metadata": {},
   "outputs": [],
   "source": [
    "print(len(Weeks_on_board),len(peak_rank),len(Last_week_rank),len(Artist_name),len(Song_name))"
   ]
  },
  {
   "cell_type": "markdown",
   "id": "6f4a1f69",
   "metadata": {},
   "source": [
    "# 7. Scrape the details of Data science recruiters from naukri.com.\n",
    "\n",
    "Url = https://www.naukri.com/\n",
    "You have to find the following details:\n",
    "\n",
    "A) Name\n",
    "\n",
    "B) Designation\n",
    "\n",
    "C) Company\n",
    "\n",
    "D) Skills they hire for\n",
    "\n",
    "E) Location"
   ]
  },
  {
   "cell_type": "code",
   "execution_count": null,
   "id": "402bbbc6",
   "metadata": {},
   "outputs": [],
   "source": [
    "path = \"C:\\\\Users\\\\hema\\\\Downloads\\\\chromedriver_win32\\\\chromedriver.exe\""
   ]
  },
  {
   "cell_type": "code",
   "execution_count": null,
   "id": "f15ad804",
   "metadata": {},
   "outputs": [],
   "source": [
    "driver =webdriver.Chrome(path)"
   ]
  },
  {
   "cell_type": "code",
   "execution_count": null,
   "id": "bbe84436",
   "metadata": {},
   "outputs": [],
   "source": [
    "#fetching the url\n",
    "driver.get(' https://www.naukri.com/')"
   ]
  },
  {
   "cell_type": "code",
   "execution_count": null,
   "id": "3e204018",
   "metadata": {},
   "outputs": [],
   "source": [
    "search_field_designation=driver.find_element_by_class_name(\"suggestor-input\")\n",
    "search_field_designation.send_keys('Data Scientist')"
   ]
  },
  {
   "cell_type": "code",
   "execution_count": null,
   "id": "19d67e2d",
   "metadata": {},
   "outputs": [],
   "source": [
    "#clicking on the search button\n",
    "search_button=driver.find_element_by_xpath('/html/body/div/div[2]/div[3]/div/div/div[6]')\n",
    "search_button.click()"
   ]
  },
  {
   "cell_type": "code",
   "execution_count": null,
   "id": "086ec8a3",
   "metadata": {},
   "outputs": [],
   "source": [
    "Name =[]\n",
    "Designation =[]\n",
    "Company =[]\n",
    "Skills_they_hire_for=[]\n",
    "Location=[]"
   ]
  },
  {
   "cell_type": "code",
   "execution_count": null,
   "id": "5c19c96d",
   "metadata": {},
   "outputs": [],
   "source": [
    "#fetching url to open the each job\n",
    "job_opening_url=[]\n",
    "url=driver.find_elements_by_xpath('//a[@class=\"title fw500 ellipsis\"]')\n",
    "for i in url:\n",
    "    job_opening_url.append(i.get_attribute('href'))"
   ]
  },
  {
   "cell_type": "code",
   "execution_count": null,
   "id": "6a705d29",
   "metadata": {},
   "outputs": [],
   "source": [
    "len(job_opening_url)"
   ]
  },
  {
   "cell_type": "code",
   "execution_count": null,
   "id": "d459ed5b",
   "metadata": {},
   "outputs": [],
   "source": [
    "job_opening_url"
   ]
  },
  {
   "cell_type": "code",
   "execution_count": null,
   "id": "80210623",
   "metadata": {},
   "outputs": [],
   "source": [
    "job_name =driver.find_elements_by_xpath('//a[@class=\"title fw500 ellipsis\"]')\n",
    "job_name[0:4]"
   ]
  },
  {
   "cell_type": "code",
   "execution_count": null,
   "id": "47966195",
   "metadata": {},
   "outputs": [],
   "source": [
    "for a in job_name:\n",
    "    job=a.text\n",
    "    Name.append(job)\n",
    "Name[0:4]"
   ]
  },
  {
   "cell_type": "code",
   "execution_count": null,
   "id": "4a5de772",
   "metadata": {},
   "outputs": [],
   "source": [
    "# lets extract all the tags having the locations\n",
    "location_tag=driver.find_elements_by_xpath('//li[@class=\"fleft grey-text br2 placeHolderLi location\"]/span[1]')    \n",
    "location_tag[0:4]"
   ]
  },
  {
   "cell_type": "code",
   "execution_count": null,
   "id": "c2ba7d15",
   "metadata": {},
   "outputs": [],
   "source": [
    "for b in location_tag:\n",
    "    tag=b.text\n",
    "    Location.append(tag)\n",
    "Location[0:4]"
   ]
  },
  {
   "cell_type": "code",
   "execution_count": null,
   "id": "2efd0b7b",
   "metadata": {},
   "outputs": [],
   "source": [
    "company_tag=driver.find_elements_by_xpath('//a[@class=\"subTitle ellipsis fleft\"]')\n",
    "company_tag[0:4]"
   ]
  },
  {
   "cell_type": "code",
   "execution_count": null,
   "id": "0d85c978",
   "metadata": {},
   "outputs": [],
   "source": [
    "for c in company_tag:\n",
    "    comp=c.text\n",
    "    Company.append(comp)\n",
    "Company[0:4]"
   ]
  },
  {
   "cell_type": "code",
   "execution_count": null,
   "id": "ff6af112",
   "metadata": {},
   "outputs": [],
   "source": [
    "skills=driver.find_elements_by_xpath('//ul[@class=\"tags has-description\"]')"
   ]
  },
  {
   "cell_type": "code",
   "execution_count": null,
   "id": "12be2a7c",
   "metadata": {},
   "outputs": [],
   "source": [
    "for d in skills:\n",
    "    skill=d.text\n",
    "    Skills_they_hire_for.append(skill)\n",
    "Skills_they_hire_for[0:4]"
   ]
  },
  {
   "cell_type": "code",
   "execution_count": null,
   "id": "d6ed4aa1",
   "metadata": {},
   "outputs": [],
   "source": [
    "print(len(Name),len(Location),len(Company),len(Skills_they_hire_for))"
   ]
  },
  {
   "cell_type": "code",
   "execution_count": null,
   "id": "8e3c8cbe",
   "metadata": {},
   "outputs": [],
   "source": [
    "df2 =pd.DataFrame({})\n",
    "df2['Name'] =Name\n",
    "df2['Location']=Location\n",
    "df2['Company']=Company\n",
    "df2['Skills_they_hire_for']=Skills_they_hire_for"
   ]
  },
  {
   "cell_type": "code",
   "execution_count": null,
   "id": "3ef34d12",
   "metadata": {},
   "outputs": [],
   "source": [
    "df2.head(20)"
   ]
  },
  {
   "cell_type": "code",
   "execution_count": null,
   "id": "3b4c48f4",
   "metadata": {},
   "outputs": [],
   "source": [
    "driver.close()"
   ]
  },
  {
   "cell_type": "markdown",
   "id": "bb2053fd",
   "metadata": {},
   "source": [
    "# 8. Scrape the details of Highest selling novels.\n",
    "Url = https://www.theguardian.com/news/datablog/2012/aug/09/best-selling-books-all-time-fifty-shades-grey\u0002compare/\n",
    "You have to find the following details:\n",
    "\n",
    "A) Book name\n",
    "\n",
    "B) Author name\n",
    "\n",
    "C) Volumes sold\n",
    "\n",
    "D) Publisher\n",
    "\n",
    "E) Genre"
   ]
  },
  {
   "cell_type": "code",
   "execution_count": null,
   "id": "294af4a1",
   "metadata": {},
   "outputs": [],
   "source": [
    "path = \"C:\\\\Users\\\\hema\\\\Downloads\\\\chromedriver_win32\\\\chromedriver.exe\""
   ]
  },
  {
   "cell_type": "code",
   "execution_count": null,
   "id": "fd455cf7",
   "metadata": {},
   "outputs": [],
   "source": [
    "driver =webdriver.Chrome(path)"
   ]
  },
  {
   "cell_type": "code",
   "execution_count": null,
   "id": "9bd958a1",
   "metadata": {},
   "outputs": [],
   "source": [
    "#fetching the url\n",
    "driver.get('https://www.theguardian.com/news/datablog/2012/aug/09/best-selling-books-all-time-fifty-shades-grey-compare')"
   ]
  },
  {
   "cell_type": "code",
   "execution_count": null,
   "id": "b345d639",
   "metadata": {},
   "outputs": [],
   "source": [
    "Book_name=[]\n",
    "Author_name=[]\n",
    "Volumn_sold=[]\n",
    "Publisher=[]\n",
    "Genre=[]"
   ]
  },
  {
   "cell_type": "code",
   "execution_count": null,
   "id": "e7b42faf",
   "metadata": {},
   "outputs": [],
   "source": [
    "title=driver.find_elements_by_xpath('/html/body/div/div[2]/div[2]/div/div[2]/div/table/tbody/tr[1]/td[2]')\n",
    "title[0:2]"
   ]
  },
  {
   "cell_type": "code",
   "execution_count": null,
   "id": "685bc640",
   "metadata": {},
   "outputs": [],
   "source": [
    "for x in title:\n",
    "    tit=x.text\n",
    "    Book_name.append(tit)\n",
    "Book_name[0:4]"
   ]
  },
  {
   "cell_type": "code",
   "execution_count": null,
   "id": "20ef4766",
   "metadata": {},
   "outputs": [],
   "source": [
    "author=driver.find_elements_by_xpath('/html/body/div/div[2]/div[2]/div/div[2]/div/table/tbody/tr[1]/td[3]')\n",
    "author[0:2]"
   ]
  },
  {
   "cell_type": "code",
   "execution_count": null,
   "id": "e99647b4",
   "metadata": {},
   "outputs": [],
   "source": [
    "for y in author:\n",
    "    aut=y.text\n",
    "    Author_name.append(aut)\n",
    "Author_name[0:4]"
   ]
  },
  {
   "cell_type": "code",
   "execution_count": null,
   "id": "68805dfc",
   "metadata": {},
   "outputs": [],
   "source": [
    "volume=driver.find_elements_by_xpath('/html/body/div/div[2]/div[2]/div/div[2]/div/table/tbody/tr[1]/td[4]')\n",
    "volume[0:2]"
   ]
  },
  {
   "cell_type": "code",
   "execution_count": null,
   "id": "e9f7d80d",
   "metadata": {},
   "outputs": [],
   "source": [
    "for z in volume:\n",
    "    vol=z.text\n",
    "    Volumn_sold.append(vol)\n",
    "Volumn_sold[0:4]"
   ]
  },
  {
   "cell_type": "code",
   "execution_count": null,
   "id": "49a8d764",
   "metadata": {},
   "outputs": [],
   "source": [
    "publish=driver.find_elements_by_xpath('/html/body/div/div[2]/div[2]/div/div[2]/div/table/tbody/tr[1]/td[5]')\n",
    "publish[0:2]"
   ]
  },
  {
   "cell_type": "code",
   "execution_count": null,
   "id": "d763a4eb",
   "metadata": {},
   "outputs": [],
   "source": [
    "for xx in publish:\n",
    "    pub=xx.text\n",
    "    Publisher.append(pub)\n",
    "Publisher[0:4]"
   ]
  },
  {
   "cell_type": "code",
   "execution_count": null,
   "id": "106e2dc9",
   "metadata": {},
   "outputs": [],
   "source": [
    "gene=driver.find_elements_by_xpath('/html/body/div/div[2]/div[2]/div/div[2]/div/table/tbody/tr[1]/td[6]')\n",
    "gene[0:2]"
   ]
  },
  {
   "cell_type": "code",
   "execution_count": null,
   "id": "0b393e4b",
   "metadata": {},
   "outputs": [],
   "source": [
    "for yy in gene:\n",
    "    gen=yy.text\n",
    "    Genre.append(gen)\n",
    "Genre[0:4]"
   ]
  },
  {
   "cell_type": "code",
   "execution_count": null,
   "id": "cb66373f",
   "metadata": {},
   "outputs": [],
   "source": [
    "print(len(Book_name), len(Author_name), len(Volumn_sold),len(Publisher), len(Genre))"
   ]
  },
  {
   "cell_type": "code",
   "execution_count": null,
   "id": "95a8b235",
   "metadata": {},
   "outputs": [],
   "source": [
    "df1 =pd.DataFrame({})\n",
    "df1['Book_name'] =Book_name\n",
    "df1['Author_name']=Author_name\n",
    "df1['Volumn_sold']=Volumn_sold\n",
    "df1['Publisher']=Publisher\n",
    "df1['Genre']=Genre"
   ]
  },
  {
   "cell_type": "code",
   "execution_count": null,
   "id": "0944a3e0",
   "metadata": {},
   "outputs": [],
   "source": [
    "df1"
   ]
  },
  {
   "cell_type": "code",
   "execution_count": null,
   "id": "839fd473",
   "metadata": {},
   "outputs": [],
   "source": [
    "driver.close()"
   ]
  },
  {
   "cell_type": "markdown",
   "id": "e61de014",
   "metadata": {},
   "source": [
    "# 9. Scrape the details most watched tv series of all time from imdb.com.\n",
    "Url = https://www.imdb.com/list/ls095964455/\n",
    "You have to find the following details:\n",
    "\n",
    "A) Name\n",
    "\n",
    "B) Year span\n",
    "\n",
    "C) Genre\n",
    "\n",
    "D) Run time\n",
    "\n",
    "E) Ratings\n",
    "\n",
    "F) Votes"
   ]
  },
  {
   "cell_type": "code",
   "execution_count": null,
   "id": "16b03539",
   "metadata": {},
   "outputs": [],
   "source": [
    "import pandas as pd\n",
    "from bs4 import BeautifulSoup\n",
    "import requests\n",
    "\n",
    "url = \"https://www.imdb.com/list/ls095964455/\"\n",
    "page2 = requests.get(url)\n",
    "\n",
    "#see page content\n",
    "soup2 = BeautifulSoup(page2.content)"
   ]
  },
  {
   "cell_type": "code",
   "execution_count": null,
   "id": "4671f63a",
   "metadata": {},
   "outputs": [],
   "source": [
    "# top series name\n",
    "name = soup2.find_all(\"h3\", class_=\"lister-item-header\")\n",
    "# get text from movie name web elements\n",
    "series_name = [] #empty list\n",
    "for i in name:\n",
    "    for j in i.find_all(\"a\"):\n",
    "        series_name.append(j.text)\n",
    "        \n",
    "        \n",
    "# Year of release\n",
    "year = soup2.find_all(\"span\",class_=\"lister-item-year text-muted unbold\")\n",
    "year_of_span = [] #empty list\n",
    "\n",
    "for k in year:\n",
    "    a=k.text.replace('(','')\n",
    "    year_of_span.append(a.replace(')',''))\n",
    "    \n",
    "\n",
    "# Genre\n",
    "Gen = soup2.find_all(\"span\",class_=\"genre\")\n",
    "Genre = [] #empty list\n",
    "\n",
    "for m in Gen:\n",
    "    g=m.text.replace('(','')\n",
    "    Genre.append(a.replace(')',''))\n",
    "    \n",
    "\n",
    "# runtime\n",
    "run = soup2.find_all(\"span\",class_=\"runtime\")\n",
    "Run_time = [] #empty list\n",
    "\n",
    "for n in run:\n",
    "    r=n.text.replace('(','')\n",
    "    Run_time.append(a.replace(')',''))\n",
    "    \n",
    "# Ratings\n",
    "rat = soup2.find_all(\"span\",class_=\"runtime\")\n",
    "Ratings = [] #empty list\n",
    "\n",
    "for l in rat:\n",
    "    ru=l.text.replace('(','')\n",
    "    Ratings.append(a.replace(')',''))\n",
    "    \n",
    "\n",
    "# votings\n",
    "vot = soup2.find_all(\"span\",name_=\"nv\")\n",
    "Votes = [] #empty list\n",
    "\n",
    "for z in vot:\n",
    "    vt=z.text.replace('(','')\n",
    "    Votes.append(a.replace(')',''))"
   ]
  },
  {
   "cell_type": "code",
   "execution_count": null,
   "id": "a3b1eaee",
   "metadata": {},
   "outputs": [],
   "source": [
    " # Make data frame most watched tv series\n",
    "tv_series=pd.DataFrame({})\n",
    "tv_series['Name']=series_name\n",
    "tv_series['Year span']=year_of_span\n",
    "tv_series['Genre']=Genre\n",
    "tv_series['Run_time']=Run_time\n",
    "tv_series['Ratings']=Ratings\n",
    "#tv_series['Votes']=Votes\n",
    "\n",
    "  "
   ]
  },
  {
   "cell_type": "code",
   "execution_count": null,
   "id": "8ffcad4b",
   "metadata": {},
   "outputs": [],
   "source": [
    "tv_series"
   ]
  },
  {
   "cell_type": "code",
   "execution_count": null,
   "id": "304a1a75",
   "metadata": {},
   "outputs": [],
   "source": [
    "driver.close()"
   ]
  },
  {
   "cell_type": "markdown",
   "id": "ee1931f7",
   "metadata": {},
   "source": [
    "# 10. Details of Datasets from UCI machine learning repositories.\n",
    "\n",
    "Url = https://archive.ics.uci.edu/\n",
    "You have to find the following details:\n",
    "\n",
    "A) Dataset name\n",
    "\n",
    "B) Data type\n",
    "\n",
    "C) Task\n",
    "\n",
    "D) Attribute type\n",
    "\n",
    "E) No of instances\n",
    "\n",
    "F) No of attribute\n",
    "\n",
    "G) Year\n",
    "Note: - from the home page you have to go to the ShowAllDataset page through code"
   ]
  },
  {
   "cell_type": "code",
   "execution_count": null,
   "id": "d6dab7d5",
   "metadata": {},
   "outputs": [],
   "source": [
    "path = \"C:\\\\Users\\\\hema\\\\Downloads\\\\chromedriver_win32\\\\chromedriver.exe\""
   ]
  },
  {
   "cell_type": "code",
   "execution_count": null,
   "id": "187c50e6",
   "metadata": {},
   "outputs": [],
   "source": [
    "driver =webdriver.Chrome(path)"
   ]
  },
  {
   "cell_type": "code",
   "execution_count": null,
   "id": "f8fbbc42",
   "metadata": {},
   "outputs": [],
   "source": [
    "#fetching the url\n",
    "driver.get('https://archive.ics.uci.edu/ml/datasets.php')"
   ]
  },
  {
   "cell_type": "code",
   "execution_count": null,
   "id": "ef9ff219",
   "metadata": {},
   "outputs": [],
   "source": [
    "Dataset_name =[]\n",
    "Data_type=[]\n",
    "Task=[]\n",
    "Attribute_type=[]\n",
    "No_of_instances =[]\n",
    "No_of_attribute =[]\n",
    "Year=[]"
   ]
  },
  {
   "cell_type": "code",
   "execution_count": null,
   "id": "58b15c3e",
   "metadata": {},
   "outputs": [],
   "source": [
    "#name=driver.find_elements_by_xpath('/html/body/table[2]/tbody/tr/td[2]/table[2]/tbody/tr[2]/td[1]/table/tbody/tr/td[2]/p/b/a')\n",
    "\n",
    "name=driver.find_elements_by_xpath('/html/body/table[2]/tbody/tr/td[2]/table[2]/tbody/tr[2]/td[1]/table/tbody/tr/td[2]/p/b/a')\n"
   ]
  },
  {
   "cell_type": "code",
   "execution_count": null,
   "id": "70f8ed81",
   "metadata": {},
   "outputs": [],
   "source": [
    "len(name)"
   ]
  },
  {
   "cell_type": "code",
   "execution_count": null,
   "id": "4a4862e8",
   "metadata": {},
   "outputs": [],
   "source": [
    "page4 = requests.get(\"https://archive.ics.uci.edu/ml/datasets.php\")\n",
    "\n",
    "# page content\n",
    "soup4=BeautifulSoup(page4.content)\n",
    "#players=[]\n",
    "# scraping the product name\n",
    "name = [] # creating empty list\n",
    "for i in soup4.find_all(\"p\",class_='normal'):#  name\n",
    "    for j in i.find_all('a'):\n",
    "        name.append(j.text)"
   ]
  },
  {
   "cell_type": "code",
   "execution_count": null,
   "id": "e02f4d22",
   "metadata": {},
   "outputs": [],
   "source": [
    "name"
   ]
  },
  {
   "cell_type": "code",
   "execution_count": null,
   "id": "b7db639b",
   "metadata": {},
   "outputs": [],
   "source": []
  }
 ],
 "metadata": {
  "kernelspec": {
   "display_name": "Python 3",
   "language": "python",
   "name": "python3"
  },
  "language_info": {
   "codemirror_mode": {
    "name": "ipython",
    "version": 3
   },
   "file_extension": ".py",
   "mimetype": "text/x-python",
   "name": "python",
   "nbconvert_exporter": "python",
   "pygments_lexer": "ipython3",
   "version": "3.8.8"
  }
 },
 "nbformat": 4,
 "nbformat_minor": 5
}
